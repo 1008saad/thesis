{
 "cells": [
  {
   "cell_type": "markdown",
   "metadata": {},
   "source": [
    "># Button"
   ]
  },
  {
   "cell_type": "code",
   "execution_count": null,
   "metadata": {},
   "outputs": [],
   "source": [
    "import pyautogui\n",
    "import random\n",
    "import time\n",
    "\n",
    "def press_keys(keys):\n",
    "    pyautogui.keyDown(keys[0])\n",
    "    for key in keys[1:]:\n",
    "        pyautogui.keyDown(key)\n",
    "        pyautogui.keyUp(key)\n",
    "    pyautogui.keyUp(keys[0])\n",
    "\n",
    "while True:\n",
    "    # Press alt+tab\n",
    "    press_keys(['alt', 'tab'])\n",
    "    \n",
    "    # Generate a random wait time within one minute\n",
    "    wait_time = random.uniform(0, 60)\n",
    "    print(f\"Waiting for {wait_time:.2f} seconds...\")\n",
    "    time.sleep(wait_time)\n",
    "    \n",
    "    # Press alt+tab+tab\n",
    "    press_keys(['alt', 'tab', 'tab'])\n",
    "    \n",
    "    # Generate another random wait time\n",
    "    wait_time = random.uniform(0, 60)\n",
    "    print(f\"Waiting for {wait_time:.2f} seconds...\")\n",
    "    time.sleep(wait_time)\n",
    "    \n",
    "    # Press alt+tab again\n",
    "    press_keys(['alt', 'tab'])"
   ]
  },
  {
   "cell_type": "markdown",
   "metadata": {},
   "source": [
    "># Mouse"
   ]
  },
  {
   "cell_type": "code",
   "execution_count": null,
   "metadata": {},
   "outputs": [],
   "source": [
    "import pyautogui\n",
    "import random\n",
    "import time\n",
    "\n",
    "# Get the screen size\n",
    "screen_width, screen_height = pyautogui.size()\n",
    "\n",
    "while True:\n",
    "    # Randomly choose new coordinates within the screen boundaries\n",
    "    x = random.randint(0, screen_width)\n",
    "    y = random.randint(0, screen_height)\n",
    "\n",
    "    # Move the mouse to the new coordinates\n",
    "    pyautogui.moveTo(x, y, duration=random.uniform(0.1, 0.5))\n",
    "\n",
    "    # Randomly choose to scroll up or down (20% chance)\n",
    "    if random.random() < 0.2:\n",
    "        scroll_amount = random.randint(-50, 50)\n",
    "        pyautogui.scroll(scroll_amount)\n",
    "\n",
    "    # Randomly choose a small delay before the next movement\n",
    "    time.sleep(random.uniform(0.1, 0.5))"
   ]
  }
 ],
 "metadata": {
  "language_info": {
   "name": "python"
  }
 },
 "nbformat": 4,
 "nbformat_minor": 2
}
