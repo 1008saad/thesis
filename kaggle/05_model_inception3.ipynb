{
  "cells": [
    {
      "cell_type": "markdown",
      "metadata": {
        "id": "MQuXbEA1h1iS"
      },
      "source": [
        "# Xception vanilla kaggle"
      ]
    },
    {
      "cell_type": "code",
      "execution_count": null,
      "metadata": {
        "id": "ndMz-hLltIlS"
      },
      "outputs": [],
      "source": [
        "import warnings\n",
        "\n",
        "# Ignore warnings\n",
        "warnings.filterwarnings(\"ignore\")"
      ]
    },
    {
      "cell_type": "markdown",
      "metadata": {
        "id": "eCe-mWqZhrSP"
      },
      "source": [
        "# Loading Data generator function"
      ]
    },
    {
      "cell_type": "code",
      "execution_count": null,
      "metadata": {
        "id": "WrisLNc8iF3A"
      },
      "outputs": [],
      "source": [
        "import tensorflow as tf\n",
        "from tensorflow.keras.preprocessing.image import ImageDataGenerator"
      ]
    },
    {
      "cell_type": "code",
      "execution_count": null,
      "metadata": {
        "id": "pTdX_8lIhtbI"
      },
      "outputs": [],
      "source": [
        "# Define data generators for training, validation, and testing\n",
        "train_datagen = ImageDataGenerator(\n",
        "    rescale=1./255,  # Rescale pixel values to [0, 1]\n",
        "    shear_range=0.2,  # Shear transformations\n",
        "    zoom_range=0.2,  # Zoom transformations\n",
        "    horizontal_flip=True  # Horizontal flips\n",
        ")\n",
        "\n",
        "test_datagen = ImageDataGenerator(rescale=1./255)  # Only rescale for testing data\n",
        "\n",
        "# Define paths to your train, test, and validation directories\n",
        "train_dir = 'train/'\n",
        "validation_dir = 'validation/'\n",
        "test_dir = 'test/'\n",
        "\n",
        "# Set up data generators to read images from directories\n",
        "train_generator = train_datagen.flow_from_directory(\n",
        "    train_dir,\n",
        "    target_size=(224, 224),  # Resize images to 224x224\n",
        "    batch_size=32,  # Number of images in each batch\n",
        "    class_mode='categorical'  # Since you have multiple classes\n",
        ")\n",
        "\n",
        "validation_generator = test_datagen.flow_from_directory(\n",
        "    validation_dir,\n",
        "    target_size=(224, 224),\n",
        "    batch_size=32,\n",
        "    class_mode='categorical'\n",
        ")\n",
        "\n",
        "test_generator = test_datagen.flow_from_directory(\n",
        "    test_dir,\n",
        "    target_size=(224, 224),\n",
        "    batch_size=32,\n",
        "    class_mode='categorical'\n",
        ")"
      ]
    },
    {
      "cell_type": "markdown",
      "metadata": {
        "id": "iEICYTI0i2Nh"
      },
      "source": [
        "# Model"
      ]
    },
    {
      "cell_type": "code",
      "execution_count": null,
      "metadata": {
        "id": "USIlhADOi-gh"
      },
      "outputs": [],
      "source": [
        "import tensorflow as tf\n",
        "from tensorflow.keras.layers import Dense\n",
        "from tensorflow.keras.applications import InceptionV3"
      ]
    },
    {
      "cell_type": "code",
      "execution_count": null,
      "metadata": {
        "id": "0vA1hdGmi3m4"
      },
      "outputs": [],
      "source": [
        "inception_base = InceptionV3(weights='imagenet', include_top=False, input_shape=(224, 224, 3))\n",
        "\n",
        "model_inception = Sequential()\n",
        "model_inception.add(inception_base)\n",
        "model_inception.add(Flatten())\n",
        "model_inception.add(Dense(256, activation='relu'))\n",
        "model_inception.add(Dense(38, activation='softmax'))  # 38 classes\n",
        "\n",
        "# Freeze the convolutional base\n",
        "inception_base.trainable = False\n",
        "\n",
        "model_inception.compile(optimizer='adam', loss='categorical_crossentropy', metrics=['accuracy'])"
      ]
    },
    {
      "cell_type": "markdown",
      "metadata": {
        "id": "b7n2hv6Wj8u_"
      },
      "source": [
        "# Check GPU availability"
      ]
    },
    {
      "cell_type": "code",
      "execution_count": null,
      "metadata": {
        "id": "BFeappmtj7Iw"
      },
      "outputs": [],
      "source": [
        "import tensorflow as tf\n",
        "\n",
        "# Check if GPU is available\n",
        "print(\"GPU Available:\", tf.config.list_physical_devices('GPU'))\n",
        "\n",
        "# Check TensorFlow GPU support\n",
        "print(\"TensorFlow GPU Support:\", tf.test.is_built_with_cuda())"
      ]
    },
    {
      "cell_type": "markdown",
      "metadata": {
        "id": "FnPFZcJpjPGx"
      },
      "source": [
        "# Train"
      ]
    },
    {
      "cell_type": "code",
      "execution_count": null,
      "metadata": {
        "id": "PDkq6SXJjRi3"
      },
      "outputs": [],
      "source": [
        "# Define the number of training and validation steps per epoch\n",
        "train_steps_per_epoch = len(train_generator)\n",
        "validation_steps_per_epoch = len(validation_generator)\n",
        "\n",
        "# Train the model\n",
        "history = model.fit(\n",
        "    train_generator,\n",
        "    steps_per_epoch=train_steps_per_epoch,\n",
        "    epochs=100,  # Adjust the number of epochs as needed\n",
        "    validation_data=validation_generator,\n",
        "    validation_steps=validation_steps_per_epoch\n",
        ")\n",
        "\n",
        "# Evaluate the model on the test set\n",
        "test_steps_per_epoch = len(test_generator)\n",
        "test_loss, test_accuracy = model.evaluate(test_generator, steps=test_steps_per_epoch)\n",
        "\n",
        "print(\"Test Loss:\", test_loss)\n",
        "print(\"Test Accuracy:\", test_accuracy)"
      ]
    },
    {
      "cell_type": "markdown",
      "metadata": {
        "id": "JLkw5Fr0kw4A"
      },
      "source": [
        "# Evaluation"
      ]
    }
  ],
  "metadata": {
    "accelerator": "GPU",
    "colab": {
      "gpuType": "T4",
      "provenance": []
    },
    "kernelspec": {
      "display_name": "Python 3",
      "name": "python3"
    },
    "language_info": {
      "codemirror_mode": {
        "name": "ipython",
        "version": 3
      },
      "file_extension": ".py",
      "mimetype": "text/x-python",
      "name": "python",
      "nbconvert_exporter": "python",
      "pygments_lexer": "ipython3",
      "version": "3.11.5"
    }
  },
  "nbformat": 4,
  "nbformat_minor": 0
}
