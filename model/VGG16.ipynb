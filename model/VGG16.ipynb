{
  "cells": [
    {
      "cell_type": "markdown",
      "metadata": {},
      "source": [
        "># VGG16"
      ]
    },
    {
      "cell_type": "code",
      "execution_count": null,
      "metadata": {},
      "outputs": [],
      "source": [
        "import warnings\n",
        "warnings.filterwarnings(\"ignore\")"
      ]
    },
    {
      "cell_type": "code",
      "execution_count": null,
      "metadata": {},
      "outputs": [],
      "source": [
        "# from google.colab import drive\n",
        "# drive.mount('/content/drive')"
      ]
    },
    {
      "cell_type": "code",
      "execution_count": null,
      "metadata": {},
      "outputs": [],
      "source": [
        "# !unzip sign.zip"
      ]
    },
    {
      "cell_type": "code",
      "execution_count": null,
      "metadata": {
        "_cell_guid": "b1076dfc-b9ad-4769-8c92-a6c4dae69d19",
        "_uuid": "8f2839f25d086af736a60e9eeb907d3b93b6e0e5",
        "execution": {
          "iopub.execute_input": "2023-04-28T09:23:24.518953Z",
          "iopub.status.busy": "2023-04-28T09:23:24.518436Z",
          "iopub.status.idle": "2023-04-28T09:23:33.301168Z",
          "shell.execute_reply": "2023-04-28T09:23:33.299605Z",
          "shell.execute_reply.started": "2023-04-28T09:23:24.518862Z"
        },
        "id": "lU02e_0eN-qT",
        "trusted": true
      },
      "outputs": [],
      "source": [
        "import matplotlib.pyplot as plt\n",
        "import numpy as np\n",
        "import pandas as pd\n",
        "import seaborn as sns\n",
        "import os\n",
        "from tensorflow.keras.preprocessing.image import load_img\n",
        "from tensorflow.keras.preprocessing.image import ImageDataGenerator\n",
        "from keras.layers import Dense, Input, Dropout, GlobalAveragePooling2D, Flatten, Conv2D, BatchNormalization, Activation, MaxPooling2D\n",
        "from keras.models import Model, Sequential\n",
        "from tensorflow.keras.optimizers import Adam, SGD, RMSprop\n",
        "import tensorflow as tf"
      ]
    },
    {
      "cell_type": "code",
      "execution_count": null,
      "metadata": {
        "execution": {
          "iopub.execute_input": "2023-04-28T09:23:33.304176Z",
          "iopub.status.busy": "2023-04-28T09:23:33.303532Z",
          "iopub.status.idle": "2023-04-28T09:23:33.350508Z",
          "shell.execute_reply": "2023-04-28T09:23:33.349498Z",
          "shell.execute_reply.started": "2023-04-28T09:23:33.304136Z"
        },
        "id": "Jf64bf14N-qX",
        "trusted": true
      },
      "outputs": [],
      "source": [
        "gpus = tf.config.list_logical_devices('GPU') \n",
        "stg=tf.distribute.MirroredStrategy(gpus)"
      ]
    },
    {
      "cell_type": "code",
      "execution_count": null,
      "metadata": {
        "colab": {
          "base_uri": "https://localhost:8080/"
        },
        "execution": {
          "iopub.execute_input": "2023-04-28T09:23:33.365322Z",
          "iopub.status.busy": "2023-04-28T09:23:33.364823Z",
          "iopub.status.idle": "2023-04-28T09:23:57.279118Z",
          "shell.execute_reply": "2023-04-28T09:23:57.277967Z",
          "shell.execute_reply.started": "2023-04-28T09:23:33.365254Z"
        },
        "id": "An2tXbhyN-qY",
        "outputId": "f41af41a-6be9-4b99-dbc9-a869435454de",
        "trusted": true
      },
      "outputs": [],
      "source": [
        "import cv2\n",
        "import os\n",
        "from tqdm import tqdm\n",
        "\n",
        "folder_dir = '/content/facemo/images/train'\n",
        "SIZE = 224\n",
        "DOWNSAMPLE_RATIO = 4\n",
        "JPEG_QUALITY = 100\n",
        "\n",
        "total_files = sum(len(files) for _, _, files in os.walk(folder_dir))\n",
        "\n",
        "with tqdm(total=total_files, desc=\"Processing Images\") as pbar:\n",
        "    for folder in os.listdir(folder_dir):\n",
        "        for file in os.listdir(os.path.join(folder_dir, folder)):\n",
        "            if file.endswith(\"jpg\"):\n",
        "                image_path = os.path.join(folder_dir, folder, file)\n",
        "                img = cv2.imread(image_path)\n",
        "                img_resized = cv2.resize(img, (SIZE,SIZE))\n",
        "                cv2.imwrite(image_path, img_resized)\n",
        "                pbar.update(1)\n",
        "            else:\n",
        "                continue"
      ]
    },
    {
      "cell_type": "code",
      "execution_count": null,
      "metadata": {
        "_kg_hide-output": true,
        "execution": {
          "iopub.execute_input": "2023-04-28T09:23:57.280986Z",
          "iopub.status.busy": "2023-04-28T09:23:57.280504Z",
          "iopub.status.idle": "2023-04-28T09:23:57.290975Z",
          "shell.execute_reply": "2023-04-28T09:23:57.289850Z",
          "shell.execute_reply.started": "2023-04-28T09:23:57.280939Z"
        },
        "id": "vB9FpCDeN-qZ",
        "trusted": true
      },
      "outputs": [],
      "source": [
        "from tensorflow.keras.models import Sequential\n",
        "from tensorflow.keras import layers"
      ]
    },
    {
      "cell_type": "code",
      "execution_count": null,
      "metadata": {
        "colab": {
          "base_uri": "https://localhost:8080/"
        },
        "execution": {
          "iopub.execute_input": "2023-04-28T09:23:57.309624Z",
          "iopub.status.busy": "2023-04-28T09:23:57.309237Z",
          "iopub.status.idle": "2023-04-28T09:23:57.792544Z",
          "shell.execute_reply": "2023-04-28T09:23:57.791270Z",
          "shell.execute_reply.started": "2023-04-28T09:23:57.309593Z"
        },
        "id": "WxNb7GsCN-qb",
        "outputId": "d8f25ccd-f523-4764-8612-c8e2338e4e95",
        "trusted": true
      },
      "outputs": [],
      "source": [
        "batch_size = 32\n",
        "picture_size = (224, 224)\n",
        "train_set = tf.keras.utils.image_dataset_from_directory(\n",
        "    directory=folder_dir,\n",
        "    shuffle=True,\n",
        "    image_size=picture_size,\n",
        "    batch_size=batch_size,\n",
        "    label_mode='categorical',\n",
        "    validation_split=0.2,\n",
        "    subset='training',\n",
        "    seed = 22\n",
        ")\n",
        "\n",
        "validation_set = tf.keras.utils.image_dataset_from_directory(\n",
        "    directory=folder_dir,\n",
        "    shuffle=True,\n",
        "    image_size=picture_size,\n",
        "    batch_size=batch_size,\n",
        "    label_mode='categorical',\n",
        "    validation_split=0.2,\n",
        "    subset='validation',\n",
        "    seed = 22\n",
        ")\n"
      ]
    },
    {
      "cell_type": "code",
      "execution_count": null,
      "metadata": {
        "colab": {
          "base_uri": "https://localhost:8080/"
        },
        "execution": {
          "iopub.execute_input": "2023-04-28T09:24:40.193761Z",
          "iopub.status.busy": "2023-04-28T09:24:40.193314Z",
          "iopub.status.idle": "2023-04-28T09:24:48.262221Z",
          "shell.execute_reply": "2023-04-28T09:24:48.260947Z",
          "shell.execute_reply.started": "2023-04-28T09:24:40.193729Z"
        },
        "id": "wwbS3e5xN-qb",
        "outputId": "3458febf-6f6d-4c9c-8ef5-e4cb122f9509",
        "trusted": true
      },
      "outputs": [],
      "source": [
        "from tensorflow.keras.layers import Input, Dense, Dropout, GlobalAveragePooling2D\n",
        "from tensorflow.keras.models import Model, Sequential\n",
        "from tensorflow.keras.applications.xception import Xception\n",
        "from tensorflow.keras.layers import RandomRotation, RandomTranslation, RandomFlip, RandomZoom\n",
        "from tensorflow.keras.optimizers import Adam,SGD,RMSprop\n",
        "from tensorflow.keras.optimizers import RMSprop,SGD,Adam\n",
        "from tensorflow.keras.callbacks import ModelCheckpoint, EarlyStopping, ReduceLROnPlateau\n",
        "from tensorflow.keras.preprocessing import image\n",
        "from tensorflow.keras.models import Model\n",
        "from tensorflow.keras.applications import imagenet_utils\n",
        "from sklearn.metrics import confusion_matrix\n",
        "import itertools\n",
        "import shutil\n",
        "import random\n",
        "import matplotlib.pyplot as plt\n",
        "from tensorflow.keras.applications import VGG16\n",
        "\n",
        "no_of_classes = 38\n",
        "\n",
        "with stg.scope():\n",
        "    img_augmentation = Sequential(\n",
        "    [\n",
        "        RandomRotation(factor=0.2),\n",
        "        RandomTranslation(height_factor=0.1, width_factor=0.1),\n",
        "        RandomZoom(height_factor=0.2)\n",
        "    ],\n",
        "    name=\"img_augmentation\"\n",
        "    )\n",
        "\n",
        "    base_model = VGG16(weights='imagenet', input_shape=(SIZE, SIZE, 3), include_top=False)\n",
        "    base_model.trainable = False\n",
        "    inputs = Input(shape=(SIZE, SIZE, 3))\n",
        "    x = img_augmentation(inputs)\n",
        "    outputs = base_model(x)\n",
        "\n",
        "    x = GlobalAveragePooling2D()(outputs)\n",
        "    x = Dense(512, activation='relu')(x)\n",
        "    x = Dropout(0.5)(x)\n",
        "    x = Dense(32, activation='relu')(x)\n",
        "    predictions = Dense(no_of_classes, activation='softmax')(x)\n",
        "\n",
        "    model = Model(inputs=inputs, outputs=predictions)\n",
        "    \n",
        "    model.compile(\n",
        "        loss='categorical_crossentropy',\n",
        "        optimizer = Adam(learning_rate=0.001),\n",
        "        metrics=['accuracy'])\n",
        "\n",
        "model.summary()"
      ]
    },
    {
      "cell_type": "code",
      "execution_count": null,
      "metadata": {
        "execution": {
          "iopub.execute_input": "2023-04-28T09:24:50.808573Z",
          "iopub.status.busy": "2023-04-28T09:24:50.807743Z",
          "iopub.status.idle": "2023-04-28T09:24:50.815591Z",
          "shell.execute_reply": "2023-04-28T09:24:50.814542Z",
          "shell.execute_reply.started": "2023-04-28T09:24:50.808514Z"
        },
        "id": "YEDYd-nIN-qc",
        "trusted": true
      },
      "outputs": [],
      "source": [
        "lr_scheduler = ReduceLROnPlateau(monitor='val_loss',\n",
        "                                 factor=0.1,\n",
        "                                 patience=2,\n",
        "                                 verbose=1)\n",
        "early_stopping = EarlyStopping(monitor='val_loss',\n",
        "                                patience=5,\n",
        "                                verbose=1)\n",
        "\n",
        "callbacks = [lr_scheduler, early_stopping]\n"
      ]
    },
    {
      "cell_type": "code",
      "execution_count": null,
      "metadata": {
        "colab": {
          "base_uri": "https://localhost:8080/"
        },
        "id": "KIULoyrPN-qc",
        "outputId": "4aac6bca-af85-4dff-bb7a-da6418288716",
        "trusted": true
      },
      "outputs": [],
      "source": [
        "import tensorflow as tf\n",
        "\n",
        "history = model.fit(train_set, epochs=100, validation_data=validation_set, callbacks=callbacks, \n",
        "                    steps_per_epoch=len(train_set), validation_steps=len(validation_set))\n"
      ]
    },
    {
      "cell_type": "code",
      "execution_count": null,
      "metadata": {},
      "outputs": [],
      "source": [
        "test_data_dir = '/content/RESIZED_TESTING_DATA'\n",
        "test_datagen = ImageDataGenerator()\n",
        "test_generator = test_datagen.flow_from_directory(\n",
        "    test_data_dir,\n",
        "    target_size=picture_size,\n",
        "    batch_size=batch_size,\n",
        "    class_mode='categorical',\n",
        "    shuffle=False\n",
        ")\n",
        "test_loss, test_acc = model.evaluate_generator(test_generator)\n",
        "print('Test accuracy:', test_acc)"
      ]
    },
    {
      "cell_type": "code",
      "execution_count": null,
      "metadata": {},
      "outputs": [],
      "source": [
        "from sklearn.metrics import accuracy_score, confusion_matrix, classification_report, roc_auc_score, roc_curve, auc\n",
        "import matplotlib.pyplot as plt\n",
        "import seaborn as sns\n",
        "\n",
        "# Evaluate the model on test set\n",
        "predictions = model.predict(test_generator)\n",
        "y_true = test_generator.classes\n",
        "y_pred = np.argmax(predictions, axis=1)\n",
        "\n",
        "# Calculate accuracy score\n",
        "accuracy = accuracy_score(y_true, y_pred)\n",
        "print(\"Accuracy:\", accuracy)\n",
        "\n",
        "# Generate confusion matrix\n",
        "conf_matrix = confusion_matrix(y_true, y_pred)\n",
        "\n",
        "# Plot confusion matrix using Seaborn\n",
        "plt.figure(figsize=(15, 15))\n",
        "sns.heatmap(conf_matrix, annot=True, fmt='g', cmap='Blues')\n",
        "plt.xlabel('Predicted labels')\n",
        "plt.ylabel('True labels')\n",
        "plt.title('Confusion Matrix')\n",
        "plt.show()\n",
        "\n",
        "# Classification report\n",
        "print(\"Classification Report:\")\n",
        "print(classification_report(y_true, y_pred))\n",
        "\n",
        "# Calculate overall ROC AUC score\n",
        "roc_auc = roc_auc_score(tf.keras.utils.to_categorical(y_true), predictions, average='macro')\n",
        "print(\"Overall ROC AUC Score:\", roc_auc)\n",
        "\n",
        "# Plot ROC curve\n",
        "fpr, tpr, _ = roc_curve(tf.keras.utils.to_categorical(y_true).ravel(), predictions.ravel())\n",
        "roc_auc = auc(fpr, tpr)\n",
        "\n",
        "# plt.figure(figsize=(10, 8))\n",
        "plt.plot(fpr, tpr, color='darkorange', lw=2, label='ROC curve (AUC = %0.5f)' % roc_auc)\n",
        "plt.plot([0, 1], [0, 1], color='navy', lw=2, linestyle='--')\n",
        "plt.xlim([0.0, 1.0])\n",
        "plt.ylim([0.0, 1.05])\n",
        "plt.xlabel('False Positive Rate')\n",
        "plt.ylabel('True Positive Rate')\n",
        "plt.title('Receiver Operating Characteristic Curve EfficientNet')\n",
        "plt.legend(loc=\"lower right\")\n",
        "plt.show()"
      ]
    }
  ],
  "metadata": {
    "accelerator": "GPU",
    "colab": {
      "gpuType": "T4",
      "provenance": []
    },
    "gpuClass": "standard",
    "kernelspec": {
      "display_name": "Python 3",
      "language": "python",
      "name": "python3"
    },
    "language_info": {
      "codemirror_mode": {
        "name": "ipython",
        "version": 3
      },
      "file_extension": ".py",
      "mimetype": "text/x-python",
      "name": "python",
      "nbconvert_exporter": "python",
      "pygments_lexer": "ipython3",
      "version": "3.7.12"
    }
  },
  "nbformat": 4,
  "nbformat_minor": 0
}
