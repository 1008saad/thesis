{
 "cells": [
  {
   "cell_type": "code",
   "execution_count": 1,
   "metadata": {},
   "outputs": [
    {
     "name": "stderr",
     "output_type": "stream",
     "text": [
      "Processing classes: 100%|██████████| 38/38 [01:16<00:00,  2.01s/it]\n"
     ]
    }
   ],
   "source": [
    "import os\n",
    "import shutil\n",
    "import random\n",
    "from math import ceil\n",
    "from tqdm import tqdm\n",
    "\n",
    "def create_train_test_datasets(original_dataset_dir, train_dataset_dir, test_dataset_dir, test_ratio=0.1):\n",
    "    # Ensure the training and test dataset directories exist\n",
    "    os.makedirs(train_dataset_dir, exist_ok=True)\n",
    "    os.makedirs(test_dataset_dir, exist_ok=True)\n",
    "\n",
    "    # Get list of class folders\n",
    "    class_folders = [folder for folder in os.listdir(original_dataset_dir) if os.path.isdir(os.path.join(original_dataset_dir, folder))]\n",
    "\n",
    "    # Iterate through each class folder with a progress bar\n",
    "    for class_name in tqdm(class_folders, desc=\"Processing classes\"):\n",
    "        class_dir = os.path.join(original_dataset_dir, class_name)\n",
    "        \n",
    "        # Create corresponding class folders in the training and test dataset directories\n",
    "        train_class_dir = os.path.join(train_dataset_dir, class_name)\n",
    "        test_class_dir = os.path.join(test_dataset_dir, class_name)\n",
    "        os.makedirs(train_class_dir, exist_ok=True)\n",
    "        os.makedirs(test_class_dir, exist_ok=True)\n",
    "\n",
    "        # List all image files in the class directory\n",
    "        images = [img for img in os.listdir(class_dir) if os.path.isfile(os.path.join(class_dir, img))]\n",
    "\n",
    "        # Calculate the number of images to copy for testing\n",
    "        num_test_images = ceil(len(images) * test_ratio)\n",
    "        test_images = random.sample(images, num_test_images)\n",
    "        train_images = list(set(images) - set(test_images))\n",
    "\n",
    "        # Copy the selected images to the test dataset directory\n",
    "        for img in test_images:\n",
    "            src_path = os.path.join(class_dir, img)\n",
    "            dst_path = os.path.join(test_class_dir, img)\n",
    "            shutil.copy(src_path, dst_path)\n",
    "\n",
    "        # Copy the remaining images to the training dataset directory\n",
    "        for img in train_images:\n",
    "            src_path = os.path.join(class_dir, img)\n",
    "            dst_path = os.path.join(train_class_dir, img)\n",
    "            shutil.copy(src_path, dst_path)\n",
    "\n",
    "# Example usage\n",
    "original_dataset_dir = 'datasets/data_aug_added'\n",
    "train_dataset_dir = 'datasets/train_val_data'\n",
    "test_dataset_dir = 'datasets/test_data'\n",
    "create_train_test_datasets(original_dataset_dir, train_dataset_dir, test_dataset_dir, test_ratio=0.1)"
   ]
  }
 ],
 "metadata": {
  "kernelspec": {
   "display_name": "Python 3",
   "language": "python",
   "name": "python3"
  },
  "language_info": {
   "codemirror_mode": {
    "name": "ipython",
    "version": 3
   },
   "file_extension": ".py",
   "mimetype": "text/x-python",
   "name": "python",
   "nbconvert_exporter": "python",
   "pygments_lexer": "ipython3",
   "version": "3.11.5"
  }
 },
 "nbformat": 4,
 "nbformat_minor": 2
}
