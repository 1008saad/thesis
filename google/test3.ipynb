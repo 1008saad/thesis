{
  "cells": [
    {
      "cell_type": "markdown",
      "source": [
        "# VGG16"
      ],
      "metadata": {
        "id": "MQuXbEA1h1iS"
      }
    },
    {
      "cell_type": "markdown",
      "source": [
        "# Google drive mount and extract dataset"
      ],
      "metadata": {
        "id": "HwCI5jjqh4AY"
      }
    },
    {
      "cell_type": "code",
      "source": [
        "from google.colab import drive\n",
        "drive.mount('/content/drive')"
      ],
      "metadata": {
        "id": "lHL9vfn8tgQE"
      },
      "execution_count": null,
      "outputs": []
    },
    {
      "cell_type": "code",
      "source": [
        "!unzip \"/content/drive/MyDrive/Dataset/data.zip\" -d \"/content/data\""
      ],
      "metadata": {
        "id": "UUGUnUg6to8F"
      },
      "execution_count": null,
      "outputs": []
    },
    {
      "cell_type": "code",
      "source": [
        "!unzip \"/content/drive/MyDrive/Dataset/data.zip\""
      ],
      "metadata": {
        "id": "q3wlBz8ads0u"
      },
      "execution_count": null,
      "outputs": []
    },
    {
      "cell_type": "code",
      "execution_count": null,
      "metadata": {
        "id": "ndMz-hLltIlS"
      },
      "outputs": [],
      "source": [
        "import warnings\n",
        "\n",
        "# Ignore warnings\n",
        "warnings.filterwarnings(\"ignore\")"
      ]
    },
    {
      "cell_type": "markdown",
      "source": [
        "# Loading Data generator function"
      ],
      "metadata": {
        "id": "eCe-mWqZhrSP"
      }
    },
    {
      "cell_type": "code",
      "source": [
        "import tensorflow as tf\n",
        "from tensorflow.keras.preprocessing.image import ImageDataGenerator"
      ],
      "metadata": {
        "id": "WrisLNc8iF3A"
      },
      "execution_count": null,
      "outputs": []
    },
    {
      "cell_type": "code",
      "source": [
        "# Define data generators for training, validation, and testing\n",
        "train_datagen = ImageDataGenerator(\n",
        "    rescale=1./255,  # Rescale pixel values to [0, 1]\n",
        "    shear_range=0.2,  # Shear transformations\n",
        "    zoom_range=0.2,  # Zoom transformations\n",
        "    horizontal_flip=True  # Horizontal flips\n",
        ")\n",
        "\n",
        "test_datagen = ImageDataGenerator(rescale=1./255)  # Only rescale for testing data\n",
        "\n",
        "# Define paths to your train, test, and validation directories\n",
        "train_dir = 'train/'\n",
        "validation_dir = 'validation/'\n",
        "test_dir = 'test/'\n",
        "\n",
        "# Set up data generators to read images from directories\n",
        "train_generator = train_datagen.flow_from_directory(\n",
        "    train_dir,\n",
        "    target_size=(224, 224),  # Resize images to 224x224\n",
        "    batch_size=32,  # Number of images in each batch\n",
        "    class_mode='categorical'  # Since you have multiple classes\n",
        ")\n",
        "\n",
        "validation_generator = test_datagen.flow_from_directory(\n",
        "    validation_dir,\n",
        "    target_size=(224, 224),\n",
        "    batch_size=32,\n",
        "    class_mode='categorical'\n",
        ")\n",
        "\n",
        "test_generator = test_datagen.flow_from_directory(\n",
        "    test_dir,\n",
        "    target_size=(224, 224),\n",
        "    batch_size=32,\n",
        "    class_mode='categorical'\n",
        ")"
      ],
      "metadata": {
        "id": "pTdX_8lIhtbI"
      },
      "execution_count": null,
      "outputs": []
    },
    {
      "cell_type": "markdown",
      "source": [
        "# Model"
      ],
      "metadata": {
        "id": "iEICYTI0i2Nh"
      }
    },
    {
      "cell_type": "code",
      "source": [
        "import tensorflow as tf\n",
        "from tensorflow.keras.applications import Xception\n",
        "from tensorflow.keras.layers import Dense, GlobalAveragePooling2D\n",
        "from tensorflow.keras.models import Model"
      ],
      "metadata": {
        "id": "USIlhADOi-gh"
      },
      "execution_count": null,
      "outputs": []
    },
    {
      "cell_type": "code",
      "source": [
        "# Load pre-trained Xception model (excluding top layers)\n",
        "base_model = Xception(weights='imagenet', include_top=False, input_shape=(224, 224, 3))\n",
        "\n",
        "# Freeze the pre-trained layers\n",
        "for layer in base_model.layers:\n",
        "    layer.trainable = False\n",
        "\n",
        "NUM_CLASSES = 38\n",
        "\n",
        "# Add custom top layers for fine-tuning\n",
        "x = base_model.output\n",
        "x = GlobalAveragePooling2D()(x)  # Global average pooling layer\n",
        "x = Dense(1024, activation='relu')(x)  # Fully connected layer with 1024 units\n",
        "predictions = Dense(NUM_CLASSES, activation='softmax')(x)  # Output layer with softmax activation\n",
        "\n",
        "# Combine base model with custom top layers\n",
        "model = Model(inputs=base_model.input, outputs=predictions)\n",
        "\n",
        "# Compile the model\n",
        "model.compile(optimizer='adam', loss='categorical_crossentropy', metrics=['accuracy'])\n",
        "\n",
        "# Print model summary\n",
        "# model.summary()"
      ],
      "metadata": {
        "id": "0vA1hdGmi3m4"
      },
      "execution_count": null,
      "outputs": []
    },
    {
      "cell_type": "markdown",
      "source": [
        "# Check GPU availability"
      ],
      "metadata": {
        "id": "b7n2hv6Wj8u_"
      }
    },
    {
      "cell_type": "code",
      "source": [
        "import tensorflow as tf\n",
        "\n",
        "# Check if GPU is available\n",
        "print(\"GPU Available:\", tf.config.list_physical_devices('GPU'))\n",
        "\n",
        "# Check TensorFlow GPU support\n",
        "print(\"TensorFlow GPU Support:\", tf.test.is_built_with_cuda())"
      ],
      "metadata": {
        "id": "BFeappmtj7Iw"
      },
      "execution_count": null,
      "outputs": []
    },
    {
      "cell_type": "markdown",
      "source": [
        "# Train"
      ],
      "metadata": {
        "id": "FnPFZcJpjPGx"
      }
    },
    {
      "cell_type": "code",
      "source": [
        "# Define the number of training and validation steps per epoch\n",
        "train_steps_per_epoch = len(train_generator)\n",
        "validation_steps_per_epoch = len(validation_generator)\n",
        "\n",
        "# Train the model\n",
        "history = model.fit(\n",
        "    train_generator,\n",
        "    steps_per_epoch=train_steps_per_epoch,\n",
        "    epochs=100,  # Adjust the number of epochs as needed\n",
        "    validation_data=validation_generator,\n",
        "    validation_steps=validation_steps_per_epoch\n",
        ")\n",
        "\n",
        "# Evaluate the model on the test set\n",
        "test_steps_per_epoch = len(test_generator)\n",
        "test_loss, test_accuracy = model.evaluate(test_generator, steps=test_steps_per_epoch)\n",
        "\n",
        "print(\"Test Loss:\", test_loss)\n",
        "print(\"Test Accuracy:\", test_accuracy)"
      ],
      "metadata": {
        "id": "PDkq6SXJjRi3"
      },
      "execution_count": null,
      "outputs": []
    },
    {
      "cell_type": "markdown",
      "source": [
        "# Evaluation"
      ],
      "metadata": {
        "id": "JLkw5Fr0kw4A"
      }
    },
    {
      "cell_type": "markdown",
      "source": [
        "## Evaluation Metric Calculation"
      ],
      "metadata": {
        "id": "-py1y9urlms_"
      }
    },
    {
      "cell_type": "code",
      "source": [
        "from sklearn.metrics import accuracy_score, precision_score, recall_score, f1_score, roc_auc_score, roc_curve\n",
        "import numpy as np\n",
        "\n",
        "# Evaluate the model on the test set\n",
        "test_loss, test_accuracy = model.evaluate(test_generator, steps=test_steps_per_epoch)\n",
        "\n",
        "# Generate predictions for the test set\n",
        "y_pred_prob = model.predict(test_generator, steps=test_steps_per_epoch)\n",
        "y_pred = np.argmax(y_pred_prob, axis=1)\n",
        "\n",
        "# Extract true labels from the test generator\n",
        "y_true = test_generator.classes\n",
        "\n",
        "\n",
        "# Print test loss and accuracy\n",
        "print(\"Test Loss:\", test_loss)\n",
        "print(\"Test Accuracy:\", test_accuracy)"
      ],
      "metadata": {
        "id": "9HekCjWkkwKC"
      },
      "execution_count": null,
      "outputs": []
    },
    {
      "cell_type": "markdown",
      "source": [
        "## Accuracy, Precision, Recall, and F1-Score Calculation"
      ],
      "metadata": {
        "id": "XlGNlQ0IloiA"
      }
    },
    {
      "cell_type": "code",
      "source": [
        "# Calculate accuracy\n",
        "accuracy = accuracy_score(y_true, y_pred)\n",
        "\n",
        "# Calculate precision, recall, and F1-score\n",
        "precision = precision_score(y_true, y_pred, average='weighted')\n",
        "recall = recall_score(y_true, y_pred, average='weighted')\n",
        "f1 = f1_score(y_true, y_pred, average='weighted')\n",
        "\n",
        "print(\"Accuracy:\", accuracy)\n",
        "print(\"Precision:\", precision)\n",
        "print(\"Recall:\", recall)\n",
        "print(\"F1-score:\", f1)\n"
      ],
      "metadata": {
        "id": "HwQemSkclqlQ"
      },
      "execution_count": null,
      "outputs": []
    },
    {
      "cell_type": "markdown",
      "source": [
        "## ROC-AUC Calculation and Plotting (for Binary Classification)"
      ],
      "metadata": {
        "id": "WxeGMHFjlxlf"
      }
    },
    {
      "cell_type": "code",
      "source": [
        "# Calculate ROC-AUC (for binary classification tasks)\n",
        "if NUM_CLASSES == 2:\n",
        "    roc_auc = roc_auc_score(y_true, y_pred_prob[:, 1])\n",
        "    print(\"ROC-AUC:\", roc_auc)\n",
        "\n",
        "    # Plot ROC curve\n",
        "    fpr, tpr, thresholds = roc_curve(y_true, y_pred_prob[:, 1])\n",
        "    plt.figure()\n",
        "    plt.plot(fpr, tpr, color='darkorange', lw=2, label='ROC curve (AUC = %0.2f)' % roc_auc)\n",
        "    plt.plot([0, 1], [0, 1], color='navy', lw=2, linestyle='--')\n",
        "    plt.xlabel('False Positive Rate')\n",
        "    plt.ylabel('True Positive Rate')\n",
        "    plt.title('Receiver Operating Characteristic (ROC) Curve')\n",
        "    plt.legend(loc=\"lower right\")\n",
        "    plt.show()\n"
      ],
      "metadata": {
        "id": "05YzzvA7lzOP"
      },
      "execution_count": null,
      "outputs": []
    }
  ],
  "metadata": {
    "kernelspec": {
      "display_name": "Python 3",
      "name": "python3"
    },
    "language_info": {
      "codemirror_mode": {
        "name": "ipython",
        "version": 3
      },
      "file_extension": ".py",
      "mimetype": "text/x-python",
      "name": "python",
      "nbconvert_exporter": "python",
      "pygments_lexer": "ipython3",
      "version": "3.11.5"
    },
    "colab": {
      "provenance": [],
      "gpuType": "T4"
    },
    "accelerator": "GPU"
  },
  "nbformat": 4,
  "nbformat_minor": 0
}