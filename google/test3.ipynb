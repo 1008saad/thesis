{
  "cells": [
    {
      "cell_type": "markdown",
      "metadata": {
        "id": "MQuXbEA1h1iS"
      },
      "source": [
        "# Xception"
      ]
    },
    {
      "cell_type": "markdown",
      "metadata": {
        "id": "HwCI5jjqh4AY"
      },
      "source": [
        "# Google drive mount and extract dataset"
      ]
    },
    {
      "cell_type": "code",
      "execution_count": null,
      "metadata": {
        "colab": {
          "base_uri": "https://localhost:8080/"
        },
        "id": "lHL9vfn8tgQE",
        "outputId": "57d02298-b4e1-48f9-9172-e3098bb6ff40"
      },
      "outputs": [],
      "source": [
        "from google.colab import drive\n",
        "drive.mount('/content/drive')"
      ]
    },
    {
      "cell_type": "code",
      "execution_count": null,
      "metadata": {
        "id": "UUGUnUg6to8F"
      },
      "outputs": [],
      "source": [
        "!unzip \"/content/drive/MyDrive/Dataset/data.zip\" -d \"/content/data\""
      ]
    },
    {
      "cell_type": "code",
      "execution_count": null,
      "metadata": {
        "id": "q3wlBz8ads0u"
      },
      "outputs": [],
      "source": [
        "!unzip \"/content/drive/MyDrive/Dataset/data.zip\""
      ]
    },
    {
      "cell_type": "code",
      "execution_count": null,
      "metadata": {
        "id": "ndMz-hLltIlS"
      },
      "outputs": [],
      "source": [
        "import warnings\n",
        "\n",
        "# Ignore warnings\n",
        "warnings.filterwarnings(\"ignore\")"
      ]
    },
    {
      "cell_type": "markdown",
      "metadata": {
        "id": "eCe-mWqZhrSP"
      },
      "source": [
        "# Loading Data generator function"
      ]
    },
    {
      "cell_type": "code",
      "execution_count": null,
      "metadata": {
        "id": "WrisLNc8iF3A"
      },
      "outputs": [],
      "source": [
        "import tensorflow as tf\n",
        "from tensorflow.keras.preprocessing.image import ImageDataGenerator"
      ]
    },
    {
      "cell_type": "code",
      "execution_count": null,
      "metadata": {
        "colab": {
          "base_uri": "https://localhost:8080/"
        },
        "id": "pTdX_8lIhtbI",
        "outputId": "1fc2484a-74f9-438e-b4d4-ee00480c9574"
      },
      "outputs": [],
      "source": [
        "# Define data generators for training, validation, and testing\n",
        "train_datagen = ImageDataGenerator(\n",
        "    rescale=1./255,  # Rescale pixel values to [0, 1]\n",
        "    shear_range=0.2,  # Shear transformations\n",
        "    zoom_range=0.2,  # Zoom transformations\n",
        "    horizontal_flip=True  # Horizontal flips\n",
        ")\n",
        "\n",
        "test_datagen = ImageDataGenerator(rescale=1./255)  # Only rescale for testing data\n",
        "\n",
        "# Define paths to your train, test, and validation directories\n",
        "train_dir = 'train/'\n",
        "validation_dir = 'validation/'\n",
        "test_dir = 'test/'\n",
        "\n",
        "# Set up data generators to read images from directories\n",
        "train_generator = train_datagen.flow_from_directory(\n",
        "    train_dir,\n",
        "    target_size=(224, 224),  # Resize images to 224x224\n",
        "    batch_size=32,  # Number of images in each batch\n",
        "    class_mode='categorical'  # Since you have multiple classes\n",
        ")\n",
        "\n",
        "validation_generator = test_datagen.flow_from_directory(\n",
        "    validation_dir,\n",
        "    target_size=(224, 224),\n",
        "    batch_size=32,\n",
        "    class_mode='categorical'\n",
        ")\n",
        "\n",
        "test_generator = test_datagen.flow_from_directory(\n",
        "    test_dir,\n",
        "    target_size=(224, 224),\n",
        "    batch_size=32,\n",
        "    class_mode='categorical'\n",
        ")"
      ]
    },
    {
      "cell_type": "markdown",
      "metadata": {
        "id": "iEICYTI0i2Nh"
      },
      "source": [
        "# Model"
      ]
    },
    {
      "cell_type": "code",
      "execution_count": null,
      "metadata": {
        "id": "USIlhADOi-gh"
      },
      "outputs": [],
      "source": [
        "import tensorflow as tf\n",
        "from tensorflow.keras.applications import Xception\n",
        "from tensorflow.keras.layers import Dense, GlobalAveragePooling2D\n",
        "from tensorflow.keras.models import Model"
      ]
    },
    {
      "cell_type": "code",
      "execution_count": null,
      "metadata": {
        "colab": {
          "base_uri": "https://localhost:8080/"
        },
        "id": "0vA1hdGmi3m4",
        "outputId": "e384687d-383f-43d0-cf71-0e2a9483202a"
      },
      "outputs": [],
      "source": [
        "# Load pre-trained Xception model (excluding top layers)\n",
        "base_model = Xception(weights='imagenet', include_top=False, input_shape=(224, 224, 3))\n",
        "\n",
        "# Freeze the pre-trained layers\n",
        "for layer in base_model.layers:\n",
        "    layer.trainable = False\n",
        "\n",
        "NUM_CLASSES = 38\n",
        "\n",
        "# Add custom top layers for fine-tuning\n",
        "x = base_model.output\n",
        "x = GlobalAveragePooling2D()(x)  # Global average pooling layer\n",
        "x = Dense(1024, activation='relu')(x)  # Fully connected layer with 1024 units\n",
        "predictions = Dense(NUM_CLASSES, activation='softmax')(x)  # Output layer with softmax activation\n",
        "\n",
        "# Combine base model with custom top layers\n",
        "model = Model(inputs=base_model.input, outputs=predictions)\n",
        "\n",
        "# Compile the model\n",
        "model.compile(optimizer='adam', loss='categorical_crossentropy', metrics=['accuracy'])\n",
        "\n",
        "# Print model summary\n",
        "model.summary()"
      ]
    },
    {
      "cell_type": "markdown",
      "metadata": {
        "id": "b7n2hv6Wj8u_"
      },
      "source": [
        "# Check GPU availability"
      ]
    },
    {
      "cell_type": "code",
      "execution_count": null,
      "metadata": {
        "colab": {
          "base_uri": "https://localhost:8080/"
        },
        "id": "BFeappmtj7Iw",
        "outputId": "60dd0934-71a2-4407-e1bf-1962e85c788c"
      },
      "outputs": [],
      "source": [
        "import tensorflow as tf\n",
        "\n",
        "# Check if GPU is available\n",
        "print(\"GPU Available:\", tf.config.list_physical_devices('GPU'))\n",
        "\n",
        "# Check TensorFlow GPU support\n",
        "print(\"TensorFlow GPU Support:\", tf.test.is_built_with_cuda())"
      ]
    },
    {
      "cell_type": "markdown",
      "metadata": {
        "id": "FnPFZcJpjPGx"
      },
      "source": [
        "# Train"
      ]
    },
    {
      "cell_type": "code",
      "execution_count": null,
      "metadata": {
        "colab": {
          "base_uri": "https://localhost:8080/",
          "height": 391
        },
        "id": "PDkq6SXJjRi3",
        "outputId": "3842fffc-46da-49a8-9b42-9b7950bcac49"
      },
      "outputs": [],
      "source": [
        "# Define the number of training and validation steps per epoch\n",
        "train_steps_per_epoch = len(train_generator)\n",
        "validation_steps_per_epoch = len(validation_generator)\n",
        "\n",
        "# Train the model\n",
        "history = model.fit(\n",
        "    train_generator,\n",
        "    steps_per_epoch=train_steps_per_epoch,\n",
        "    epochs=100,  # Adjust the number of epochs as needed\n",
        "    validation_data=validation_generator,\n",
        "    validation_steps=validation_steps_per_epoch\n",
        ")\n",
        "\n",
        "# Evaluate the model on the test set\n",
        "test_steps_per_epoch = len(test_generator)\n",
        "test_loss, test_accuracy = model.evaluate(test_generator, steps=test_steps_per_epoch)\n",
        "\n",
        "print(\"Test Loss:\", test_loss)\n",
        "print(\"Test Accuracy:\", test_accuracy)"
      ]
    }
  ],
  "metadata": {
    "accelerator": "GPU",
    "colab": {
      "gpuType": "T4",
      "provenance": []
    },
    "kernelspec": {
      "display_name": "Python 3",
      "name": "python3"
    },
    "language_info": {
      "codemirror_mode": {
        "name": "ipython",
        "version": 3
      },
      "file_extension": ".py",
      "mimetype": "text/x-python",
      "name": "python",
      "nbconvert_exporter": "python",
      "pygments_lexer": "ipython3",
      "version": "3.11.5"
    }
  },
  "nbformat": 4,
  "nbformat_minor": 0
}
