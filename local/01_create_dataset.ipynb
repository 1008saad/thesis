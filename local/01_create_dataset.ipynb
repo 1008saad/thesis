{
 "cells": [
  {
   "cell_type": "markdown",
   "metadata": {},
   "source": [
    "# Create Dataset from raw data"
   ]
  },
  {
   "cell_type": "markdown",
   "metadata": {},
   "source": [
    "Delete Previous Dataset"
   ]
  },
  {
   "cell_type": "code",
   "execution_count": null,
   "metadata": {},
   "outputs": [],
   "source": [
    "import shutil\n",
    "\n",
    "def delete_folder(folder_path):\n",
    "    try:\n",
    "        shutil.rmtree(folder_path)\n",
    "        print(f\"Folder '{folder_path}' and its contents have been deleted successfully.\")\n",
    "    except Exception as e:\n",
    "        print(f\"Error occurred while deleting '{folder_path}': {e}\")\n",
    "\n",
    "# Example usage:\n",
    "delete_folder(\"F:/thesis/data\")"
   ]
  },
  {
   "cell_type": "markdown",
   "metadata": {},
   "source": [
    "Main code"
   ]
  },
  {
   "cell_type": "code",
   "execution_count": null,
   "metadata": {},
   "outputs": [],
   "source": [
    "import os\n",
    "import cv2\n",
    "import numpy as np\n",
    "import shutil\n",
    "from sklearn.model_selection import train_test_split\n",
    "from tqdm import tqdm\n",
    "import time\n",
    "\n",
    "data_dir = \"F:/datasets/dataset\"\n",
    "output_dir = \"F:/thesis/data\"\n",
    "target_size = (224, 224)\n",
    "\n",
    "# Create output directory if it doesn't exist\n",
    "if not os.path.exists(output_dir):\n",
    "    os.makedirs(output_dir)\n",
    "\n",
    "# Function to rename and save images\n",
    "def save_image(img, class_name, dataset_type, serial):\n",
    "    new_filename = f\"{dataset_type}_class_{class_name}_{serial}.jpg\"\n",
    "    output_path = os.path.join(output_dir, dataset_type, class_name, new_filename)\n",
    "    cv2.imwrite(output_path, img)\n",
    "\n",
    "# Get sorted list of subdirectories (classes)\n",
    "class_names = sorted(os.listdir(data_dir))\n",
    "\n",
    "# Iterate through subfolders and resize images\n",
    "start_time = time.time()\n",
    "for class_name in class_names:\n",
    "    class_dir = os.path.join(data_dir, class_name)\n",
    "    if os.path.isdir(class_dir):\n",
    "        # Create train, test, and validation directories\n",
    "        for dataset_type in [\"train\", \"test\", \"validation\"]:\n",
    "            dataset_type_dir = os.path.join(output_dir, dataset_type, class_name)\n",
    "            if not os.path.exists(dataset_type_dir):\n",
    "                os.makedirs(dataset_type_dir)\n",
    "        \n",
    "        images = []\n",
    "        # Load and resize images\n",
    "        for img_name in tqdm(os.listdir(class_dir), desc=f\"Processing class {class_name}\"):\n",
    "            img_path = os.path.join(class_dir, img_name)\n",
    "            img = cv2.imread(img_path)\n",
    "            img_resized = cv2.resize(img, target_size)\n",
    "            images.append(img_resized)\n",
    "\n",
    "        # Split data into train, test, and validation sets\n",
    "        X_train, X_test = train_test_split(images, test_size=0.2, random_state=42)\n",
    "        X_train, X_val = train_test_split(X_train, test_size=0.25, random_state=42)  # 0.25 x 0.8 = 0.2\n",
    "\n",
    "        # Save train images\n",
    "        for i, img in enumerate(X_train, start=1):\n",
    "            save_image(img, class_name, \"train\", i)\n",
    "\n",
    "        # Save test images\n",
    "        for i, img in enumerate(X_test, start=1):\n",
    "            save_image(img, class_name, \"test\", i)\n",
    "\n",
    "        # Save validation images\n",
    "        for i, img in enumerate(X_val, start=1):\n",
    "            save_image(img, class_name, \"validation\", i)\n",
    "\n",
    "# Calculate total time taken\n",
    "total_time = time.time() - start_time\n",
    "print(f\"Total time taken: {total_time:.2f} seconds\")"
   ]
  }
 ],
 "metadata": {
  "kernelspec": {
   "display_name": "Python 3",
   "language": "python",
   "name": "python3"
  },
  "language_info": {
   "codemirror_mode": {
    "name": "ipython",
    "version": 3
   },
   "file_extension": ".py",
   "mimetype": "text/x-python",
   "name": "python",
   "nbconvert_exporter": "python",
   "pygments_lexer": "ipython3",
   "version": "3.11.5"
  }
 },
 "nbformat": 4,
 "nbformat_minor": 2
}
